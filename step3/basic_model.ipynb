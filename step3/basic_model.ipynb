{
 "cells": [
  {
   "cell_type": "code",
   "execution_count": 1,
   "id": "5b6add65",
   "metadata": {},
   "outputs": [],
   "source": [
    "\n",
    "import numpy as np\n",
    "import pandas as pd\n",
    "import time\n",
    "import os \n",
    "import random\n",
    "from sklearn.feature_selection import VarianceThreshold\n",
    "from sklearn.feature_selection import SelectKBest\n",
    "from sklearn.feature_selection import chi2\n",
    "from sklearn.preprocessing import StandardScaler\n",
    "\n",
    "from sklearn.svm import LinearSVC\n",
    "from sklearn.feature_selection import SelectFromModel\n",
    "from sklearn.feature_selection import mutual_info_regression,mutual_info_classif\n",
    "from sklearn.ensemble import GradientBoostingClassifier as GBC\n",
    "from sklearn.model_selection import cross_validate, KFold\n",
    "from sklearn.feature_selection import SequentialFeatureSelector\n",
    "from sklearn.metrics import accuracy_score as ACC \n",
    "from sklearn.metrics import log_loss as logloss \n",
    "import matplotlib.pyplot as plt\n",
    "from sklearn.neighbors import KNeighborsClassifier as KNNC\n",
    "from sklearn.linear_model import LogisticRegression as LogiR\n",
    "from sklearn.ensemble import RandomForestClassifier as RFC\n",
    "from sklearn.svm import SVC\n",
    "# 自定义模块\n",
    "from telcoFunc import *\n",
    "# 导入特征衍生模块\n",
    "import features_creation as fc\n",
    "from features_creation import *\n",
    "from tqdm import tqdm\n",
    "import gc\n",
    "#日常使用库与算法\n",
    "import pandas as pd\n",
    "import numpy as np\n",
    "import sklearn\n",
    "import matplotlib as mlp\n",
    "import matplotlib.pyplot as plt\n",
    "import time\n",
    "import xgboost as xgb\n",
    "from xgboost import XGBClassifier\n",
    "from sklearn.ensemble import GradientBoostingClassifier as GBC\n",
    "#导入优化算法\n",
    "import hyperopt\n",
    "from hyperopt import hp, fmin, tpe, Trials, partial\n",
    "from hyperopt.early_stop import no_progress_loss\n",
    "#融合模型\n",
    "from sklearn.ensemble import StackingClassifier"
   ]
  },
  {
   "cell_type": "code",
   "execution_count": 2,
   "id": "5daaa5f9",
   "metadata": {},
   "outputs": [],
   "source": [
    "data = pd.read_csv(\"./6_1data_exp_shifted.csv\",index_col=0)\n",
    "\n",
    "data_test=pd.read_csv('./6_1data_exp_test_shifted.csv',index_col=0)\n",
    "\n",
    "features = data.drop(columns='group').copy()\n",
    "labels = data['group'].copy()\n",
    "\n",
    "features_test = data_test.drop(columns='group').copy()\n",
    "labels_test = data_test['group'].copy()\n",
    "\n",
    "shift_gene=['ENSG00000164600.4', 'ENSG00000095970.12', 'ENSG00000171860.4',\n",
    "       'ENSG00000135914.5', 'ENSG00000075275.12','ENSG00000131095.7']\n",
    "\n",
    "features_keep_test=features_test.loc[:,shift_gene]\n",
    "\n",
    "features_keep=features.loc[:,shift_gene]\n",
    "\n",
    "scaler = StandardScaler()\n",
    "\n",
    "scall=scaler.fit(features_keep)\n",
    "\n",
    "ff_keep=scall.transform(features_keep)\n",
    "\n",
    "ff_keep_test=scall.transform(features_keep_test)\n",
    "\n",
    "ff_keep=pd.DataFrame(ff_keep)\n",
    "\n",
    "ff_keep.columns=shift_gene\n",
    "\n",
    "ff_keep_test=pd.DataFrame(ff_keep_test)\n",
    "\n",
    "ff_keep_test.columns=shift_gene"
   ]
  },
  {
   "cell_type": "code",
   "execution_count": 3,
   "id": "f2a0287f",
   "metadata": {},
   "outputs": [],
   "source": [
    "Poly_train, Poly_test, colNames_train_new, colNames_test_new = Polynomial_Features(shift_gene, \n",
    "                                                                                   3, \n",
    "                                                                                   ff_keep, \n",
    "                                                                                   ff_keep_test, \n",
    "                                                                                   multi=False)"
   ]
  },
  {
   "cell_type": "code",
   "execution_count": 4,
   "id": "59786134",
   "metadata": {},
   "outputs": [
    {
     "name": "stdout",
     "output_type": "stream",
     "text": [
      "93\n"
     ]
    }
   ],
   "source": [
    "MI = mutual_info_classif(Poly_train, labels, random_state=1412)\n",
    "\n",
    "\n",
    "MI_threshold = MI.mean() * 0.1\n",
    "\n",
    "MI_Ploy_cols = []\n",
    "\n",
    "for MIvalue, colname in zip(MI, colNames_train_new):\n",
    "    if MIvalue > MI_threshold:\n",
    "        MI_Ploy_cols.append(colname)\n",
    "\n",
    "print(len(MI_Ploy_cols))        "
   ]
  },
  {
   "cell_type": "code",
   "execution_count": 5,
   "id": "41930a68",
   "metadata": {},
   "outputs": [],
   "source": [
    "Poly_train=Poly_train.loc[:,MI_Ploy_cols]\n",
    "Poly_test=Poly_test.loc[:,MI_Ploy_cols]"
   ]
  },
  {
   "cell_type": "code",
   "execution_count": 6,
   "id": "03ce2daa",
   "metadata": {},
   "outputs": [],
   "source": [
    "Poly_train=pd.concat([Poly_train,ff_keep],axis=1)\n",
    "Poly_test=pd.concat([Poly_test,ff_keep_test],axis=1)"
   ]
  },
  {
   "cell_type": "code",
   "execution_count": 7,
   "id": "b61a1785",
   "metadata": {},
   "outputs": [],
   "source": [
    "#日常使用库与算法\n",
    "import pandas as pd\n",
    "import numpy as np\n",
    "import sklearn\n",
    "import matplotlib as mlp\n",
    "import matplotlib.pyplot as plt\n",
    "import time\n",
    "import xgboost as xgb\n",
    "from xgboost import XGBClassifier\n",
    "from sklearn.ensemble import GradientBoostingClassifier as GBC\n",
    "#导入优化算法\n",
    "import hyperopt\n",
    "from hyperopt import hp, fmin, tpe, Trials, partial\n",
    "from hyperopt.early_stop import no_progress_loss"
   ]
  },
  {
   "cell_type": "code",
   "execution_count": 8,
   "id": "ab6eca5d",
   "metadata": {},
   "outputs": [],
   "source": [
    "def hyperopt_objective(params):\n",
    "    reg = XGBClassifier(n_estimators = int(params[\"n_estimators\"]) #\n",
    "              ,learning_rate = params[\"lr\"]   #\n",
    "              ,booster = params['booster'] #\n",
    "              ,gamma = params[\"gamma\"]\n",
    "              ,max_depth = int(params[\"max_depth\"])  #\n",
    "              ,min_child_weight = params[\"min_child_weight\"]\n",
    "              ,subsample = params[\"subsample\"]\n",
    "              ,colsample_bytree = params[\"colsample_bytree\"]\n",
    "              ,colsample_bynode = params[\"colsample_bynode\"]\n",
    "              ,reg_lambda = params[\"reg_lambda\"]\n",
    "              ,random_state=420\n",
    "              )\n",
    "    validation_loss = cross_validate(reg,Poly_train,labels\n",
    "                                     ,scoring=\"roc_auc\"\n",
    "                                     ,cv=5\n",
    "                                     ,verbose=False\n",
    "                                     ,n_jobs=-1\n",
    "                                     ,error_score='raise')\n",
    "    return -np.mean(abs(validation_loss[\"test_score\"]))"
   ]
  },
  {
   "cell_type": "code",
   "execution_count": 9,
   "id": "dac78857",
   "metadata": {},
   "outputs": [],
   "source": [
    "param_grid_simple = {'n_estimators': hp.quniform(\"n_estimators\",80,150,1)\n",
    "                  ,\"lr\": hp.quniform(\"learning_rate\",0,0.4,0.01)\n",
    "                  ,\"booster\": hp.choice(\"booster\",['gbtree'])\n",
    "                  ,\"gamma\":hp.quniform(\"gamma\",3,7,0.01)\n",
    "                  ,\"max_depth\": hp.quniform(\"max_depth\",1,5,1)\n",
    "                  ,\"min_child_weight\": hp.quniform(\"min_child_weight\",2,5,0.1)\n",
    "                  ,\"subsample\":hp.quniform(\"subsample\",0.5,0.9,0.01)\n",
    "                  ,\"colsample_bytree\":hp.quniform(\"colsample_bytree\",0,1,0.01)\n",
    "                  ,\"colsample_bynode\":hp.quniform(\"colsample_bynode\",0,1,0.01)\n",
    "                  ,\"reg_lambda\":hp.quniform(\"reg_lambda\",1.5,4,0.01)\n",
    "                 }"
   ]
  },
  {
   "cell_type": "code",
   "execution_count": 10,
   "id": "1ed58fed",
   "metadata": {},
   "outputs": [],
   "source": [
    "def param_hyperopt(max_evals=100):\n",
    "    \n",
    "    #保存迭代过程\n",
    "    trials = Trials()\n",
    "    \n",
    "    #设置提前停止\n",
    "    early_stop_fn = no_progress_loss(100)\n",
    "    \n",
    "    #定义代理模型\n",
    "    params_best = fmin(hyperopt_objective\n",
    "                       , space = param_grid_simple\n",
    "                       , algo = tpe.suggest\n",
    "                       , max_evals = max_evals\n",
    "                       , verbose=True\n",
    "                       , trials = trials\n",
    "                       , early_stop_fn = early_stop_fn\n",
    "                      )\n",
    "    \n",
    "    #打印最优参数，fmin会自动打印最佳分数\n",
    "    print(\"\\n\",\"\\n\",\"best params: \", params_best,\n",
    "          \"\\n\")\n",
    "    return params_best, trials"
   ]
  },
  {
   "cell_type": "code",
   "execution_count": 11,
   "id": "5169bff6",
   "metadata": {},
   "outputs": [
    {
     "name": "stdout",
     "output_type": "stream",
     "text": [
      " 25%|██████████▊                                 | 246/1000 [01:06<03:23,  3.70trial/s, best loss: -0.7558552274861385]\n",
      "\n",
      " \n",
      " best params:  {'booster': 0, 'colsample_bynode': 0.07, 'colsample_bytree': 0.96, 'gamma': 5.98, 'learning_rate': 0.17, 'max_depth': 1.0, 'min_child_weight': 3.8000000000000003, 'n_estimators': 108.0, 'reg_lambda': 2.69, 'subsample': 0.67} \n",
      "\n"
     ]
    }
   ],
   "source": [
    "params_best, trials = param_hyperopt(1000)"
   ]
  },
  {
   "cell_type": "code",
   "execution_count": 12,
   "id": "444514f2",
   "metadata": {},
   "outputs": [
    {
     "name": "stdout",
     "output_type": "stream",
     "text": [
      " 27%|███████████▋                                | 267/1000 [01:16<03:29,  3.50trial/s, best loss: -0.7548424198360049]\n",
      "\n",
      " \n",
      " best params:  {'booster': 0, 'colsample_bynode': 0.09, 'colsample_bytree': 0.72, 'gamma': 3.27, 'learning_rate': 0.14, 'max_depth': 1.0, 'min_child_weight': 2.6, 'n_estimators': 141.0, 'reg_lambda': 2.25, 'subsample': 0.8200000000000001} \n",
      "\n"
     ]
    }
   ],
   "source": [
    "params_best, trials = param_hyperopt(1000)"
   ]
  },
  {
   "cell_type": "code",
   "execution_count": 45,
   "id": "ae77a9d6",
   "metadata": {},
   "outputs": [
    {
     "name": "stdout",
     "output_type": "stream",
     "text": [
      " 11%|████▋                                       | 106/1000 [00:28<03:59,  3.74trial/s, best loss: -0.7571260823728247]\n",
      "\n",
      " \n",
      " best params:  {'booster': 0, 'colsample_bynode': 0.88, 'colsample_bytree': 0.12, 'gamma': 3.56, 'learning_rate': 0.24, 'max_depth': 1.0, 'min_child_weight': 2.1, 'n_estimators': 91.0, 'reg_lambda': 3.99, 'subsample': 0.59} \n",
      "\n"
     ]
    }
   ],
   "source": [
    "params_best, trials = param_hyperopt(1000)"
   ]
  },
  {
   "cell_type": "code",
   "execution_count": 30,
   "id": "ce7607c2",
   "metadata": {},
   "outputs": [],
   "source": [
    "def hyperop_t(params):\n",
    "    reg = XGBClassifier(n_estimators = int(params[\"n_estimators\"]) #\n",
    "              ,learning_rate = params[\"learning_rate\"]   #\n",
    "              ,booster =['gbtree'][params['booster']] #\n",
    "              ,gamma = params[\"gamma\"]\n",
    "              ,max_depth = int(params[\"max_depth\"])  #\n",
    "              ,min_child_weight = params[\"min_child_weight\"]\n",
    "              ,subsample = params[\"subsample\"]\n",
    "              ,colsample_bytree = params[\"colsample_bytree\"]\n",
    "              ,colsample_bynode = params[\"colsample_bynode\"]\n",
    "              ,reg_lambda = params[\"reg_lambda\"]\n",
    "              ,random_state=1412\n",
    "              )\n",
    "    validation_loss = cross_validate(reg,Poly_train,labels\n",
    "                                     ,scoring=\"roc_auc\"\n",
    "                                     ,cv=5\n",
    "                                     ,verbose=False\n",
    "                                     ,n_jobs=-1\n",
    "                                     ,error_score='raise')\n",
    "    return -np.mean(abs(validation_loss[\"test_score\"]))"
   ]
  },
  {
   "cell_type": "code",
   "execution_count": 31,
   "id": "be7bae75",
   "metadata": {},
   "outputs": [
    {
     "data": {
      "text/plain": [
       "-0.7539069821715587"
      ]
     },
     "execution_count": 31,
     "metadata": {},
     "output_type": "execute_result"
    }
   ],
   "source": [
    "hyperop_t(params_best)"
   ]
  },
  {
   "cell_type": "code",
   "execution_count": 13,
   "id": "af07057b",
   "metadata": {},
   "outputs": [],
   "source": [
    "# 模型尝试 basic_model\n",
    "clf1=XGBClassifier(n_estimators =91,learning_rate=0.24,booster='gbtree',gamma = 3.56,max_depth = 1,min_child_weight =2.1,subsample =0.59,colsample_bytree =0.12,colsample_bynode =0.88,reg_lambda =3.99,random_state=1412)\n",
    "clf2=XGBClassifier(n_estimators =108,learning_rate=0.17,booster='gbtree',gamma = 5.98,max_depth = 1,min_child_weight =3.8,subsample =0.67,colsample_bytree =0.96,colsample_bynode =0.07,reg_lambda =2.69,random_state=420)"
   ]
  },
  {
   "cell_type": "code",
   "execution_count": 53,
   "id": "8bd08231",
   "metadata": {},
   "outputs": [],
   "source": [
    "def hyperopt_objective(params):\n",
    "    reg = GBC(n_estimators = int(params[\"n_estimators\"])\n",
    "              ,learning_rate = params[\"lr\"]\n",
    "              ,criterion = params[\"criterion\"]\n",
    "              ,loss = params[\"loss\"]\n",
    "              ,max_depth = int(params[\"max_depth\"])\n",
    "              ,max_features = params[\"max_features\"]\n",
    "              ,subsample = params[\"subsample\"]\n",
    "              ,min_impurity_decrease = params[\"min_impurity_decrease\"]\n",
    "              ,random_state=420\n",
    "              ,verbose=False)\n",
    "    validation_loss = cross_validate(reg,Poly_train,labels\n",
    "                                     ,scoring=\"roc_auc\"\n",
    "                                     ,cv=5\n",
    "                                     ,verbose=False\n",
    "                                     ,n_jobs=-1\n",
    "                                     ,error_score='raise')\n",
    "    return -np.mean(abs(validation_loss[\"test_score\"]))"
   ]
  },
  {
   "cell_type": "code",
   "execution_count": 54,
   "id": "6a594eca",
   "metadata": {},
   "outputs": [],
   "source": [
    "param_grid_simple = {'n_estimators': hp.quniform(\"n_estimators\",30,100,1)\n",
    "                  ,\"lr\": hp.quniform(\"learning_rate\",0.01,0.3,0.01)\n",
    "                  ,\"criterion\": hp.choice(\"criterion\",['friedman_mse'])\n",
    "                  ,\"loss\":hp.choice(\"loss\",[\"deviance\",\"exponential\"])\n",
    "                  ,\"max_depth\": hp.quniform(\"max_depth\",1,7,1)\n",
    "                  ,\"subsample\": hp.quniform(\"subsample\",0.3,0.9,0.01)\n",
    "                  ,\"max_features\": hp.choice(\"max_features\",[\"sqrt\",15,20,23,25,27,30,32,35])\n",
    "                  ,\"min_impurity_decrease\":hp.quniform(\"min_impurity_decrease\",0,1.5,0.01)\n",
    "                 }"
   ]
  },
  {
   "cell_type": "code",
   "execution_count": 55,
   "id": "9eb4085e",
   "metadata": {},
   "outputs": [],
   "source": [
    "def param_hyperopt(max_evals=100):\n",
    "    \n",
    "    #保存迭代过程\n",
    "    trials = Trials()\n",
    "    \n",
    "    #设置提前停止\n",
    "    early_stop_fn = no_progress_loss(200)\n",
    "    \n",
    "    #定义代理模型\n",
    "    params_best = fmin(hyperopt_objective\n",
    "                       , space = param_grid_simple\n",
    "                       , algo = tpe.suggest\n",
    "                       , max_evals = max_evals\n",
    "                       , verbose=True\n",
    "                       , trials = trials\n",
    "                       , early_stop_fn = early_stop_fn\n",
    "                      )\n",
    "    \n",
    "    #打印最优参数，fmin会自动打印最佳分数\n",
    "    print(\"\\n\",\"\\n\",\"best params: \", params_best,\n",
    "          \"\\n\")\n",
    "    return params_best, trials"
   ]
  },
  {
   "cell_type": "code",
   "execution_count": 56,
   "id": "02dccc3a",
   "metadata": {},
   "outputs": [
    {
     "name": "stdout",
     "output_type": "stream",
     "text": [
      " 60%|██████████████████████████▎                 | 598/1000 [03:04<02:04,  3.24trial/s, best loss: -0.7603407883684428]\n",
      "\n",
      " \n",
      " best params:  {'criterion': 0, 'learning_rate': 0.16, 'loss': 1, 'max_depth': 1.0, 'max_features': 2, 'min_impurity_decrease': 0.88, 'n_estimators': 83.0, 'subsample': 0.67} \n",
      "\n"
     ]
    }
   ],
   "source": [
    "params_best, trials = param_hyperopt(1000)"
   ]
  },
  {
   "cell_type": "code",
   "execution_count": 47,
   "id": "e9392997",
   "metadata": {},
   "outputs": [
    {
     "name": "stdout",
     "output_type": "stream",
     "text": [
      " 81%|███████████████████████████████████▌        | 807/1000 [04:18<01:01,  3.13trial/s, best loss: -0.7595505685452358]\n",
      "\n",
      " \n",
      " best params:  {'criterion': 0, 'learning_rate': 0.15, 'loss': 1, 'max_depth': 1.0, 'max_features': 6, 'min_impurity_decrease': 0.98, 'n_estimators': 81.0, 'subsample': 0.72} \n",
      "\n"
     ]
    }
   ],
   "source": [
    "params_best, trials = param_hyperopt(1000)"
   ]
  },
  {
   "cell_type": "code",
   "execution_count": 57,
   "id": "096a1f8e",
   "metadata": {},
   "outputs": [],
   "source": [
    "clf3= GBC(n_estimators = 81\n",
    "              ,learning_rate = 0.15\n",
    "              ,criterion = 'friedman_mse'\n",
    "              ,loss = \"exponential\"\n",
    "              ,max_depth = 1\n",
    "              ,max_features = 30\n",
    "              ,subsample = 0.72\n",
    "              ,min_impurity_decrease = 0.98\n",
    "              ,random_state=1412\n",
    "              ,verbose=False)"
   ]
  },
  {
   "cell_type": "code",
   "execution_count": 58,
   "id": "ec977acf",
   "metadata": {},
   "outputs": [],
   "source": [
    "clf4= GBC(n_estimators = 83\n",
    "              ,learning_rate = 0.16\n",
    "              ,criterion = 'friedman_mse'\n",
    "              ,loss = \"exponential\"\n",
    "              ,max_depth = 1\n",
    "              ,max_features = 20\n",
    "              ,subsample = 0.67\n",
    "              ,min_impurity_decrease = 0.88\n",
    "              ,random_state=420\n",
    "              ,verbose=False)"
   ]
  },
  {
   "cell_type": "code",
   "execution_count": 8,
   "id": "271ae946",
   "metadata": {},
   "outputs": [],
   "source": [
    "from sklearn.ensemble import RandomForestClassifier as RFC"
   ]
  },
  {
   "cell_type": "code",
   "execution_count": 78,
   "id": "bfdaf1ee",
   "metadata": {},
   "outputs": [],
   "source": [
    "def hyperopt_objective(params):\n",
    "    reg = RFC(n_estimators = int(params[\"n_estimators\"])\n",
    "              ,criterion = params[\"criterion\"]\n",
    "              ,max_depth = int(params[\"max_depth\"])\n",
    "              ,max_features = params[\"max_features\"]\n",
    "              ,max_samples = params[\"max_samples\"]\n",
    "              ,min_impurity_decrease = params[\"min_impurity_decrease\"]\n",
    "              ,random_state=1412\n",
    "              ,verbose=False)\n",
    "    validation_loss = cross_validate(reg,Poly_train,labels\n",
    "                                     ,scoring=\"roc_auc\"\n",
    "                                     ,cv=5\n",
    "                                     ,verbose=False\n",
    "                                     ,n_jobs=-1\n",
    "                                     ,error_score='raise')\n",
    "    return -np.mean(abs(validation_loss[\"test_score\"]))"
   ]
  },
  {
   "cell_type": "code",
   "execution_count": 79,
   "id": "2a6170b1",
   "metadata": {},
   "outputs": [],
   "source": [
    "param_grid_simple = {'n_estimators': hp.quniform(\"n_estimators\",30,90,1)\n",
    "                  ,\"criterion\": hp.choice(\"criterion\",[\"gini\",\"entropy\"])\n",
    "                  ,\"max_depth\": hp.quniform(\"max_depth\",1,7,1)\n",
    "                  ,\"max_samples\": hp.quniform(\"max_samples\",0.3,0.9,0.01)\n",
    "                  ,\"max_features\": hp.choice(\"max_features\",[\"sqrt\",15,18,20,23,25,27,30,32,35,40])\n",
    "                  ,\"min_impurity_decrease\":hp.quniform(\"min_impurity_decrease\",0,1.5,0.01)\n",
    "                 }"
   ]
  },
  {
   "cell_type": "code",
   "execution_count": 80,
   "id": "eb9e3e02",
   "metadata": {},
   "outputs": [],
   "source": [
    "def param_hyperopt(max_evals=100):\n",
    "    \n",
    "    #保存迭代过程\n",
    "    trials = Trials()\n",
    "    \n",
    "    #设置提前停止\n",
    "    early_stop_fn = no_progress_loss(200)\n",
    "    \n",
    "    #定义代理模型\n",
    "    params_best = fmin(hyperopt_objective\n",
    "                       , space = param_grid_simple\n",
    "                       , algo = tpe.suggest\n",
    "                       , max_evals = max_evals\n",
    "                       , verbose=True\n",
    "                       , trials = trials\n",
    "                       , early_stop_fn = early_stop_fn\n",
    "                      )\n",
    "    \n",
    "    #打印最优参数，fmin会自动打印最佳分数\n",
    "    print(\"\\n\",\"\\n\",\"best params: \", params_best,\n",
    "          \"\\n\")\n",
    "    return params_best, trials"
   ]
  },
  {
   "cell_type": "code",
   "execution_count": 74,
   "id": "aed32ce1",
   "metadata": {},
   "outputs": [
    {
     "name": "stdout",
     "output_type": "stream",
     "text": [
      " 61%|██████████████████████████▊                 | 609/1000 [03:05<01:59,  3.28trial/s, best loss: -0.7402826479548094]\n",
      "\n",
      " \n",
      " best params:  {'criterion': 1, 'max_depth': 6.0, 'max_features': 8, 'max_samples': 0.63, 'min_impurity_decrease': 0.0, 'n_estimators': 74.0} \n",
      "\n"
     ]
    }
   ],
   "source": [
    "params_best, trials = param_hyperopt(1000)"
   ]
  },
  {
   "cell_type": "code",
   "execution_count": 81,
   "id": "5f26a336",
   "metadata": {},
   "outputs": [
    {
     "name": "stdout",
     "output_type": "stream",
     "text": [
      " 29%|█████████████                                | 291/1000 [01:19<03:14,  3.64trial/s, best loss: -0.742746483926085]\n",
      "\n",
      " \n",
      " best params:  {'criterion': 1, 'max_depth': 5.0, 'max_features': 4, 'max_samples': 0.64, 'min_impurity_decrease': 0.0, 'n_estimators': 51.0} \n",
      "\n"
     ]
    }
   ],
   "source": [
    "params_best, trials = param_hyperopt(1000)"
   ]
  },
  {
   "cell_type": "code",
   "execution_count": 82,
   "id": "a4ead871",
   "metadata": {},
   "outputs": [],
   "source": [
    "clf5=RFC(criterion='entropy',max_depth=5,max_features=23,max_samples=0.64,min_impurity_decrease=0,n_estimators=51,random_state=1412)"
   ]
  },
  {
   "cell_type": "code",
   "execution_count": 10,
   "id": "0b46cb00",
   "metadata": {},
   "outputs": [],
   "source": [
    "from sklearn.svm import SVC"
   ]
  },
  {
   "cell_type": "code",
   "execution_count": 13,
   "id": "2162400b",
   "metadata": {},
   "outputs": [],
   "source": [
    "def hyperopt_objective(params):\n",
    "    reg = SVC(C = params[\"C\"]\n",
    "              ,kernel = params[\"kernel\"]\n",
    "              #,gamma=params['gamma']\n",
    "\n",
    "              ,random_state=1412\n",
    "              ,verbose=False)\n",
    "    validation_loss = cross_validate(reg,Poly_train,labels\n",
    "                                     ,scoring=\"roc_auc\"\n",
    "                                     ,cv=5\n",
    "                                     ,verbose=False\n",
    "                                     ,n_jobs=-1\n",
    "                                     ,error_score='raise')\n",
    "    return -np.mean(abs(validation_loss[\"test_score\"]))"
   ]
  },
  {
   "cell_type": "code",
   "execution_count": 14,
   "id": "4a9c6298",
   "metadata": {},
   "outputs": [],
   "source": [
    "param_grid_simple = {'C': hp.quniform(\"C\",0.01,5,0.01)\n",
    "                  ,\"kernel\": hp.choice(\"kernel\",[\"rbf\",'poly','sigmoid','linear'])\n",
    "                 # ,\"gamma\" :hp.quniform(\"gamma\",0.01,5,0.01)\n",
    "\n",
    "                 }"
   ]
  },
  {
   "cell_type": "code",
   "execution_count": 15,
   "id": "33187b7c",
   "metadata": {},
   "outputs": [],
   "source": [
    "def param_hyperopt(max_evals=100):\n",
    "    \n",
    "    #保存迭代过程\n",
    "    trials = Trials()\n",
    "    \n",
    "    #设置提前停止\n",
    "    early_stop_fn = no_progress_loss(200)\n",
    "    \n",
    "    #定义代理模型\n",
    "    params_best = fmin(hyperopt_objective\n",
    "                       , space = param_grid_simple\n",
    "                       , algo = tpe.suggest\n",
    "                       , max_evals = max_evals\n",
    "                       , verbose=True\n",
    "                       , trials = trials\n",
    "                       , early_stop_fn = early_stop_fn\n",
    "                      )\n",
    "    \n",
    "    #打印最优参数，fmin会自动打印最佳分数\n",
    "    print(\"\\n\",\"\\n\",\"best params: \", params_best,\n",
    "          \"\\n\")\n",
    "    return params_best, trials"
   ]
  },
  {
   "cell_type": "code",
   "execution_count": 16,
   "id": "01a2e4b3",
   "metadata": {},
   "outputs": [
    {
     "name": "stdout",
     "output_type": "stream",
     "text": [
      " 40%|█████████████████▍                          | 397/1000 [05:36<08:31,  1.18trial/s, best loss: -0.7265277720109136]\n",
      "\n",
      " \n",
      " best params:  {'C': 0.13, 'kernel': 3} \n",
      "\n"
     ]
    }
   ],
   "source": [
    "params_best, trials = param_hyperopt(1000)"
   ]
  },
  {
   "cell_type": "code",
   "execution_count": 9,
   "id": "b9a4c0b6",
   "metadata": {},
   "outputs": [],
   "source": [
    "from sklearn.neighbors import KNeighborsClassifier as KNNC\n",
    "from sklearn.linear_model import LogisticRegression as LogiR"
   ]
  },
  {
   "cell_type": "code",
   "execution_count": 42,
   "id": "7fd871de",
   "metadata": {},
   "outputs": [],
   "source": [
    "clf6=SVC(C=0.13,kernel='linear')"
   ]
  },
  {
   "cell_type": "code",
   "execution_count": 43,
   "id": "3fc9fece",
   "metadata": {},
   "outputs": [],
   "source": [
    "clf7 = LogiR(max_iter = 3000, C=0.1, random_state=1412,n_jobs=8)"
   ]
  },
  {
   "cell_type": "code",
   "execution_count": 38,
   "id": "def7a063",
   "metadata": {},
   "outputs": [],
   "source": [
    "clf8 = KNNC(n_neighbors=20,n_jobs=8)"
   ]
  },
  {
   "cell_type": "code",
   "execution_count": 15,
   "id": "6d1d4a28",
   "metadata": {},
   "outputs": [],
   "source": [
    " # all basic model\n",
    "clf1=XGBClassifier(n_estimators =91,learning_rate=0.24,booster='gbtree',gamma = 3.56,max_depth = 1,min_child_weight =2.1,subsample =0.59,colsample_bytree =0.12,colsample_bynode =0.88,reg_lambda =3.99,random_state=1412)\n",
    "clf2=XGBClassifier(n_estimators =108,learning_rate=0.17,booster='gbtree',gamma = 5.98,max_depth = 1,min_child_weight =3.8,subsample =0.67,colsample_bytree =0.96,colsample_bynode =0.07,reg_lambda =2.69,random_state=420)\n",
    "clf3= GBC(n_estimators = 81\n",
    "              ,learning_rate = 0.15\n",
    "              ,criterion = 'friedman_mse'\n",
    "              ,loss = \"exponential\"\n",
    "              ,max_depth = 1\n",
    "              ,max_features = 30\n",
    "              ,subsample = 0.72\n",
    "              ,min_impurity_decrease = 0.98\n",
    "              ,random_state=1412\n",
    "              ,verbose=False)\n",
    "clf4= GBC(n_estimators = 83\n",
    "              ,learning_rate = 0.16\n",
    "              ,criterion = 'friedman_mse'\n",
    "              ,loss = \"exponential\"\n",
    "              ,max_depth = 1\n",
    "              ,max_features = 20\n",
    "              ,subsample = 0.67\n",
    "              ,min_impurity_decrease = 0.88\n",
    "              ,random_state=420\n",
    "              ,verbose=False)\n",
    "clf5=RFC(criterion='entropy',max_depth=5,max_features=23,max_samples=0.64,min_impurity_decrease=0,n_estimators=51,random_state=1412)\n",
    "clf6=SVC(C=0.13,kernel='linear')\n",
    "clf7 = LogiR(max_iter = 3000, C=0.1, random_state=1412,n_jobs=8)\n",
    "clf8 = KNNC(n_neighbors=20,n_jobs=8)\n"
   ]
  },
  {
   "cell_type": "code",
   "execution_count": null,
   "id": "55ae469c",
   "metadata": {},
   "outputs": [],
   "source": []
  }
 ],
 "metadata": {
  "kernelspec": {
   "display_name": "Python 3",
   "language": "python",
   "name": "python3"
  },
  "language_info": {
   "codemirror_mode": {
    "name": "ipython",
    "version": 3
   },
   "file_extension": ".py",
   "mimetype": "text/x-python",
   "name": "python",
   "nbconvert_exporter": "python",
   "pygments_lexer": "ipython3",
   "version": "3.8.8"
  }
 },
 "nbformat": 4,
 "nbformat_minor": 5
}
